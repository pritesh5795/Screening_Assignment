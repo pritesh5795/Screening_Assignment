{
 "cells": [
  {
   "cell_type": "code",
   "execution_count": 1,
   "id": "7b4317f3",
   "metadata": {},
   "outputs": [],
   "source": [
    "\"\"\"Create a function in python to read the text file and replace specific content\n",
    "of the file.\"\"\"\n",
    "\n",
    "# Create File 'example.txt' in write mode.\n",
    "f = open('example.txt','w')\n",
    "\n",
    "# Write data into file. \n",
    "f.write('This is placement assignment')\n",
    "\n",
    "# read input file.\n",
    "f = open('example.txt','rt')\n",
    "data = f.read()\n",
    "\n",
    "# replaced 'placement' by 'screening'\n",
    "data = data.replace('placement','screening')\n",
    "\n",
    "# close the file.\n",
    "f.close()\n",
    "\n",
    "# open file in write mode.\n",
    "f = open('example.txt','wt')\n",
    "\n",
    "# overrite file with result data.\n",
    "f.write(data)\n",
    "\n",
    "# close the file.\n",
    "f.close()"
   ]
  },
  {
   "cell_type": "code",
   "execution_count": 2,
   "id": "5e83ba14",
   "metadata": {},
   "outputs": [
    {
     "data": {
      "text/plain": [
       "'Demonstrate use of abstract class, multiple inheritance and decorator in python using examples.'"
      ]
     },
     "execution_count": 2,
     "metadata": {},
     "output_type": "execute_result"
    }
   ],
   "source": [
    "\"\"\"Demonstrate use of abstract class, multiple inheritance and decorator in python using examples.\"\"\"\n",
    "\n",
    "# classes are nothing but a kind of blueprint and objects are kind of entity which exist.\n",
    "# eg.- a car is a 'class' and specific model of car is a 'object'.\n",
    "\n",
    "# abstract class - a class derives from ABC class which belongs to abc module, is known as abstract class in python.\n",
    "#                  we use absract class when there are some common feature shared by all the objects as they are.\n",
    "#                  we cannot make object of abstract class\n",
    "\n",
    "# decorator - without modifying the function itself, we will able to change behavior of it.\n",
    "\n",
    "# multiple inheritance - inherit variable form two or more classes or multiple classes we want to inherit someting. \n"
   ]
  },
  {
   "cell_type": "code",
   "execution_count": 3,
   "id": "c9401737",
   "metadata": {},
   "outputs": [],
   "source": [
    "# multiple inheritance\n",
    "\n",
    "class abc:\n",
    "    def __init__(self, p, q, r) :\n",
    "        self.p= p\n",
    "        self.q= q \n",
    "        self.r= r \n",
    "        \n",
    "        \n",
    "    def test(self) : \n",
    "        print(\"abc class \")\n",
    "    \n",
    "class abc1:\n",
    "    \n",
    "    def __init__(self, b, m, w) :\n",
    "        self.b = b\n",
    "        self.m = m \n",
    "        self.w = w \n",
    "        \n",
    "    def test1(self) : \n",
    "        print(\"abc1 class\")\n",
    "        \n",
    "class child(abc, abc1):\n",
    "    def __init__(self, *args ,**kwargs):\n",
    "        abc.__init__(self, *args) \n",
    "        abc1.__init__(self, **kwargs)"
   ]
  },
  {
   "cell_type": "code",
   "execution_count": 4,
   "id": "514130cd",
   "metadata": {},
   "outputs": [
    {
     "name": "stdout",
     "output_type": "stream",
     "text": [
      "4\n",
      "5\n",
      "6\n",
      "10\n",
      "20\n",
      "30\n"
     ]
    }
   ],
   "source": [
    "n = child(4, 5, 6, b=10, m=20, w=30)\n",
    "print(n.p)\n",
    "print(n.q)\n",
    "print(n.r)\n",
    "print(n.b)\n",
    "print(n.m)\n",
    "print(n.w)"
   ]
  },
  {
   "cell_type": "code",
   "execution_count": 5,
   "id": "265e4d17",
   "metadata": {},
   "outputs": [],
   "source": [
    "# abstract class and decorator\n",
    "\n",
    "from abc import ABC, abstractmethod # import 'ABC' class from 'abc' module and decorator 'abstractmethod' \n",
    "\n",
    "class animal(ABC):\n",
    "    @abstractmethod   # make abstract method\n",
    "    def wolf(self):\n",
    "        pass"
   ]
  },
  {
   "cell_type": "code",
   "execution_count": null,
   "id": "2530eb1c",
   "metadata": {},
   "outputs": [],
   "source": []
  }
 ],
 "metadata": {
  "kernelspec": {
   "display_name": "Python 3 (ipykernel)",
   "language": "python",
   "name": "python3"
  },
  "language_info": {
   "codemirror_mode": {
    "name": "ipython",
    "version": 3
   },
   "file_extension": ".py",
   "mimetype": "text/x-python",
   "name": "python",
   "nbconvert_exporter": "python",
   "pygments_lexer": "ipython3",
   "version": "3.9.12"
  }
 },
 "nbformat": 4,
 "nbformat_minor": 5
}
